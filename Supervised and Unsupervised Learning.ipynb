{
 "cells": [
  {
   "cell_type": "markdown",
   "id": "b2ca25b1",
   "metadata": {},
   "source": [
    "# Supervised Learning"
   ]
  },
  {
   "cell_type": "markdown",
   "id": "9de0c722",
   "metadata": {},
   "source": [
    "As the name implies, supervised learning involves the presence of a supervisor who also serves as an instructor. In a sense, supervised learning is when we instruct or train a machine using well-labeled data. This signifies that some information has already been labeled with the correct answer. The machine is then given a new collection of examples (data) to analyze the training data (set of training examples) and produce a proper result from labeled data using the supervised learning method."
   ]
  },
  {
   "cell_type": "markdown",
   "id": "93229f3d",
   "metadata": {},
   "source": [
    "Consider the following scenario: you are given a basket containing various fruits. The first step now is to teach the machine all of the different fruits one by one, as follows:"
   ]
  },
  {
   "cell_type": "markdown",
   "id": "5ed22600",
   "metadata": {},
   "source": [
    "If the shape of the object is rounded and has a depression at the top, is red in color, then it will be labeled as –\n",
    " Apple.\n",
    "\n",
    "If the shape of the object is a long curving cylinder having Green-Yellow color, then it will be labeled as – Banana. "
   ]
  },
  {
   "cell_type": "markdown",
   "id": "c01b347e",
   "metadata": {},
   "source": [
    "Now suppose after training the data, you have given a new separate fruit, say Banana from the basket, and asked to identify it. "
   ]
  },
  {
   "cell_type": "markdown",
   "id": "79df3172",
   "metadata": {},
   "source": [
    "Because the system has already learned from past data, it must use it intelligently this time. It will classify the fruit based on its shape and color, then confirm its name as BANANA and place it in the Banana category. As a result, the machine learns from training data (a fruit basket) and then applies what it has learned to test data (new fruit).\n",
    "\n",
    "There are two types of algorithms for supervised learning:"
   ]
  },
  {
   "cell_type": "markdown",
   "id": "d06ea6ee",
   "metadata": {},
   "source": [
    "Classification: A classification problem is when the output variable is a category, such as “Red” or “blue” or “disease” and “no disease”.\n",
    "\n",
    "Regression: A regression problem is when the output variable is a real value, such as “dollars” or “weight”."
   ]
  },
  {
   "cell_type": "markdown",
   "id": "d1c44e17",
   "metadata": {},
   "source": [
    "Supervised learning deals with or learns with “labeled” data. This implies that some data is already tagged with the correct answer."
   ]
  },
  {
   "cell_type": "markdown",
   "id": "dbdb4fb2",
   "metadata": {},
   "source": [
    "Types:-\n",
    "Regression\n",
    "Logistic Regression\n",
    "Classification\n",
    "Naive Bayes Classifiers\n",
    "K-NN (k nearest neighbors)\n",
    "Decision Trees\n",
    "Support Vector Machine"
   ]
  },
  {
   "cell_type": "markdown",
   "id": "167b11b9",
   "metadata": {},
   "source": [
    "Advantages: \n",
    "    Supervised learning enables for the collection of data and the output of data from prior experiences.\n",
    "With the help of experience, it is possible to optimize performance criteria.\n",
    "Supervised machine learning aids in the resolution of a variety of real-world computation issues."
   ]
  },
  {
   "cell_type": "markdown",
   "id": "67db5162",
   "metadata": {},
   "source": [
    "Disadvantages: \n",
    "    Classifying large amounts of data might be difficult.\n",
    "Computation time is required for supervised learning training. As a result, it takes a long time."
   ]
  },
  {
   "cell_type": "markdown",
   "id": "229736a2",
   "metadata": {},
   "source": [
    "Example : Nearest Centroid classifier"
   ]
  },
  {
   "cell_type": "markdown",
   "id": "2b6f4645",
   "metadata": {},
   "source": [
    "The Nearest Centroid classifier is a simple algorithm that represents each class by the centroid of its members. In effect, this makes it similar to the label updating phase of the KMeans algorithm. It also has no parameters to choose, making it a good baseline classifier. It does, however, suffer on non-convex classes, as well as when classes have drastically different variances, as equal variance in all dimensions is assumed. See Linear Discriminant Analysis (LinearDiscriminantAnalysis) and Quadratic Discriminant Analysis (QuadraticDiscriminantAnalysis) for more complex methods that do not make this assumption. Usage of the default NearestCentroid is simple:"
   ]
  },
  {
   "cell_type": "code",
   "execution_count": 2,
   "id": "5abf0bf4",
   "metadata": {},
   "outputs": [
    {
     "name": "stdout",
     "output_type": "stream",
     "text": [
      "[1]\n"
     ]
    }
   ],
   "source": [
    "from sklearn.neighbors import NearestCentroid\n",
    "import numpy as np\n",
    "X = np.array([[-1, -1], [-2, -1], [-3, -2], [1, 1], [2, 1], [3, 2]])\n",
    "y = np.array([1, 1, 1, 2, 2, 2])\n",
    "clf = NearestCentroid()\n",
    "clf.fit(X, y)\n",
    "NearestCentroid()\n",
    "print(clf.predict([[-0.8, -1]]))"
   ]
  },
  {
   "cell_type": "markdown",
   "id": "479977fe",
   "metadata": {},
   "source": [
    "The NearestCentroid classifier has a shrink_threshold parameter, which implements the nearest shrunken centroid classifier. In effect, the value of each feature for each centroid is divided by the within-class variance of that feature. The feature values are then reduced by shrink_threshold. Most notably, if a particular feature value crosses zero, it is set to zero. In effect, this removes the feature from affecting the classification. This is useful, for example, for removing noisy features."
   ]
  },
  {
   "cell_type": "markdown",
   "id": "23fcf8e3",
   "metadata": {},
   "source": [
    "# UnSupervised Learning"
   ]
  },
  {
   "cell_type": "markdown",
   "id": "4f851209",
   "metadata": {},
   "source": [
    "Unsupervised learning is the process of training a machine with data that hasn't been classed or labeled, and then letting the algorithm to act on that data without supervision. The machine's job here is to sort unsorted data into groups based on similarities, patterns, and differences without any prior data training.\n",
    "\n",
    "\n",
    "Unlike supervised learning, there is no teacher present, which implies the computer will not be trained. As a result, the machine is limited in its ability to discover hidden structure in unlabeled data on its own.\n",
    "Assume it is shown an image with both dogs and cats that it has never seen before."
   ]
  },
  {
   "cell_type": "markdown",
   "id": "fefbf227",
   "metadata": {},
   "source": [
    "As a result, the machine has no understanding of the characteristics of dogs and cats, and we are unable to classify it as such. However, it can classify them based on their similarities, patterns, and differences, allowing us to simply divide the above image into two sections. The first section may have all photos with dogs, while the second part may contain all photos with cats. You haven't learned anything yet, thus there isn't any training data or examples.\n",
    "\n",
    "It enables the model to identify patterns and information that were previously undetectable on its own. It is mostly concerned with unlabeled data."
   ]
  },
  {
   "cell_type": "markdown",
   "id": "8d6390c5",
   "metadata": {},
   "source": [
    "There are two types of algorithms for unsupervised learning:\n",
    "\n",
    "Clustering: A clustering problem is one in which you wish to find the data's underlying groupings, such as classifying customers based on their purchasing habits.\n",
    "\n",
    "Association: An association rule learning problem is where you want to discover rules that describe large portions of your data, such as people that buy X also tend to buy Y."
   ]
  },
  {
   "cell_type": "markdown",
   "id": "61367d08",
   "metadata": {},
   "source": [
    "Types of Unsupervised Learning:-\n",
    "\n",
    "Clustering\n",
    "Exclusive (partitioning)\n",
    "Agglomerative\n",
    "Overlapping\n",
    "Probabilistic\n",
    "\n",
    "\n",
    "Clustering Types:-\n",
    "Hierarchical clustering\n",
    "K-means clustering\n",
    "Principal Component Analysis\n",
    "Singular Value Decomposition\n",
    "Independent Component Analysis"
   ]
  },
  {
   "cell_type": "markdown",
   "id": "f5adfdf8",
   "metadata": {},
   "source": [
    "Example : Nearest Neighbors"
   ]
  },
  {
   "cell_type": "markdown",
   "id": "da9d5b89",
   "metadata": {},
   "source": [
    "Nearest Neighbors implements unsupervised nearest neighbors learning. It acts as a uniform interface to three different nearest neighbors algorithms: BallTree, KDTree, and a brute-force algorithm based on routines in sklearn.metrics.pairwise. The choice of neighbors search algorithm is controlled through the keyword 'algorithm', which must be one of ['auto', 'ball_tree', 'kd_tree', 'brute']. When the default value 'auto' is passed, the algorithm attempts to determine the best approach from the training data. For a discussion of the strengths and weaknesses of each option"
   ]
  },
  {
   "cell_type": "markdown",
   "id": "e2d4ee56",
   "metadata": {},
   "source": [
    "Finding the Nearest Neighbors"
   ]
  },
  {
   "cell_type": "markdown",
   "id": "2b9c9fe8",
   "metadata": {},
   "source": [
    "For the simple task of finding the nearest neighbors between two sets of data, the unsupervised algorithms within sklearn.neighbors can be used:"
   ]
  },
  {
   "cell_type": "code",
   "execution_count": 6,
   "id": "c9a2265b",
   "metadata": {},
   "outputs": [],
   "source": [
    "from sklearn.neighbors import NearestNeighbors\n",
    "import numpy as np\n",
    "X = np.array([[-1, -1], [-2, -1], [-3, -2], [1, 1], [2, 1], [3, 2]])\n",
    "nbrs = NearestNeighbors(n_neighbors=2, algorithm='ball_tree').fit(X)\n",
    "distances, indices = nbrs.kneighbors(X) "
   ]
  },
  {
   "cell_type": "code",
   "execution_count": 7,
   "id": "18ff1bf5",
   "metadata": {},
   "outputs": [
    {
     "data": {
      "text/plain": [
       "array([[0, 1],\n",
       "       [1, 0],\n",
       "       [2, 1],\n",
       "       [3, 4],\n",
       "       [4, 3],\n",
       "       [5, 4]])"
      ]
     },
     "execution_count": 7,
     "metadata": {},
     "output_type": "execute_result"
    }
   ],
   "source": [
    "indices"
   ]
  },
  {
   "cell_type": "code",
   "execution_count": 8,
   "id": "4d18e0e0",
   "metadata": {},
   "outputs": [
    {
     "data": {
      "text/plain": [
       "array([[0.        , 1.        ],\n",
       "       [0.        , 1.        ],\n",
       "       [0.        , 1.41421356],\n",
       "       [0.        , 1.        ],\n",
       "       [0.        , 1.        ],\n",
       "       [0.        , 1.41421356]])"
      ]
     },
     "execution_count": 8,
     "metadata": {},
     "output_type": "execute_result"
    }
   ],
   "source": [
    "distances"
   ]
  },
  {
   "cell_type": "markdown",
   "id": "67a8eb70",
   "metadata": {},
   "source": [
    "Because the query set matches the training set, the nearest neighbor of each point is the point itself, at a distance of zero."
   ]
  },
  {
   "cell_type": "markdown",
   "id": "b539e045",
   "metadata": {},
   "source": [
    "It is also possible to efficiently produce a sparse graph showing the connections between neighboring points:"
   ]
  },
  {
   "cell_type": "code",
   "execution_count": 9,
   "id": "4543ca4f",
   "metadata": {},
   "outputs": [
    {
     "data": {
      "text/plain": [
       "array([[1., 1., 0., 0., 0., 0.],\n",
       "       [1., 1., 0., 0., 0., 0.],\n",
       "       [0., 1., 1., 0., 0., 0.],\n",
       "       [0., 0., 0., 1., 1., 0.],\n",
       "       [0., 0., 0., 1., 1., 0.],\n",
       "       [0., 0., 0., 0., 1., 1.]])"
      ]
     },
     "execution_count": 9,
     "metadata": {},
     "output_type": "execute_result"
    }
   ],
   "source": [
    "nbrs.kneighbors_graph(X).toarray()"
   ]
  },
  {
   "cell_type": "markdown",
   "id": "472d34d3",
   "metadata": {},
   "source": [
    "KDTree and BallTree Classes"
   ]
  },
  {
   "cell_type": "markdown",
   "id": "a347808c",
   "metadata": {},
   "source": [
    "Alternatively, one can use the KDTree or BallTree classes directly to find nearest neighbors. This is the functionality wrapped by the NearestNeighbors class used above. The Ball Tree and KD Tree have the same interface; we’ll show an example of using the KD Tree here:"
   ]
  },
  {
   "cell_type": "code",
   "execution_count": 10,
   "id": "2d15dfc9",
   "metadata": {},
   "outputs": [
    {
     "data": {
      "text/plain": [
       "array([[0, 1],\n",
       "       [1, 0],\n",
       "       [2, 1],\n",
       "       [3, 4],\n",
       "       [4, 3],\n",
       "       [5, 4]])"
      ]
     },
     "execution_count": 10,
     "metadata": {},
     "output_type": "execute_result"
    }
   ],
   "source": [
    "from sklearn.neighbors import KDTree\n",
    "import numpy as np\n",
    "X = np.array([[-1, -1], [-2, -1], [-3, -2], [1, 1], [2, 1], [3, 2]])\n",
    "kdt = KDTree(X, leaf_size=30, metric='euclidean')\n",
    "kdt.query(X, k=2, return_distance=False)"
   ]
  },
  {
   "cell_type": "code",
   "execution_count": null,
   "id": "eb792cac",
   "metadata": {},
   "outputs": [],
   "source": []
  }
 ],
 "metadata": {
  "kernelspec": {
   "display_name": "Python 3 (ipykernel)",
   "language": "python",
   "name": "python3"
  },
  "language_info": {
   "codemirror_mode": {
    "name": "ipython",
    "version": 3
   },
   "file_extension": ".py",
   "mimetype": "text/x-python",
   "name": "python",
   "nbconvert_exporter": "python",
   "pygments_lexer": "ipython3",
   "version": "3.9.10"
  }
 },
 "nbformat": 4,
 "nbformat_minor": 5
}
